{
 "cells": [
  {
   "cell_type": "markdown",
   "metadata": {},
   "source": [
    "### My solution\n"
   ]
  },
  {
   "cell_type": "code",
   "execution_count": 151,
   "metadata": {},
   "outputs": [],
   "source": [
    "import string\n",
    "\n",
    "LOWER = string.ascii_lowercase\n",
    "UPPER = string.ascii_uppercase\n",
    "\n",
    "LETTERS = LOWER + UPPER"
   ]
  },
  {
   "cell_type": "code",
   "execution_count": 157,
   "metadata": {},
   "outputs": [],
   "source": [
    "with open(\"inputs/input3.txt\") as file:\n",
    "    input = file.read().split(\"\\n\")\n",
    "\n",
    "with open(\"inputs/input3.txt\") as file:\n",
    "    input_iter = iter(file.read().split(\"\\n\"))"
   ]
  },
  {
   "cell_type": "code",
   "execution_count": 155,
   "metadata": {},
   "outputs": [
    {
     "name": "stdout",
     "output_type": "stream",
     "text": [
      "Sum of the priorities: 8394\n"
     ]
    }
   ],
   "source": [
    "counter = 0\n",
    "\n",
    "\n",
    "def find_string_intersection(string_1, string_2):\n",
    "    result = set(string_1).intersection(string_2)\n",
    "    return \"\".join(result)\n",
    "\n",
    "\n",
    "for rucksack in input:\n",
    "    split = int(len(rucksack) / 2)\n",
    "    compartment_1 = rucksack[:split]\n",
    "    compartment_2 = rucksack[split:]\n",
    "\n",
    "    both = find_string_intersection(compartment_1, compartment_2)\n",
    "    counter += LETTERS.find(both) + 1\n",
    "\n",
    "print(f\"Sum of the priorities: {counter}\")"
   ]
  },
  {
   "cell_type": "code",
   "execution_count": 158,
   "metadata": {},
   "outputs": [
    {
     "name": "stdout",
     "output_type": "stream",
     "text": [
      "Sum of the priorities: 2413\n"
     ]
    }
   ],
   "source": [
    "counter = 0\n",
    "\n",
    "for elf_1, elf_2, elf_3 in zip(input_iter, input_iter, input_iter):\n",
    "    both = \"\".join(set(elf_1).intersection(elf_2).intersection(elf_3))\n",
    "    counter += LETTERS.find(both) + 1\n",
    "\n",
    "print(f\"Sum of the priorities: {counter}\")"
   ]
  },
  {
   "cell_type": "markdown",
   "metadata": {},
   "source": [
    "### Updated based on Reddit\n"
   ]
  },
  {
   "cell_type": "markdown",
   "metadata": {},
   "source": [
    "ord -> used to convert a single Unicode character to its integer equivalent\n"
   ]
  },
  {
   "cell_type": "code",
   "execution_count": 167,
   "metadata": {},
   "outputs": [],
   "source": [
    "def score(letter: str) -> int:\n",
    "    return ord(letter) - 96 if letter.islower() else ord(letter) - 38"
   ]
  }
 ],
 "metadata": {
  "kernelspec": {
   "display_name": "Python 3.10.4 64-bit",
   "language": "python",
   "name": "python3"
  },
  "language_info": {
   "codemirror_mode": {
    "name": "ipython",
    "version": 3
   },
   "file_extension": ".py",
   "mimetype": "text/x-python",
   "name": "python",
   "nbconvert_exporter": "python",
   "pygments_lexer": "ipython3",
   "version": "3.10.4"
  },
  "orig_nbformat": 4,
  "vscode": {
   "interpreter": {
    "hash": "2ca5b572f719f8608fcfbfa60ea2cbb76e05c97b610092f39e5845e8be2c74e7"
   }
  }
 },
 "nbformat": 4,
 "nbformat_minor": 2
}
