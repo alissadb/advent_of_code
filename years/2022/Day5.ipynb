{
 "cells": [
  {
   "cell_type": "code",
   "execution_count": 49,
   "metadata": {},
   "outputs": [],
   "source": [
    "import re"
   ]
  },
  {
   "cell_type": "code",
   "execution_count": 230,
   "metadata": {},
   "outputs": [],
   "source": [
    "with open(\"inputs/input5.txt\") as f:\n",
    "    starting_stacks, procedures = f.read().split(\"\\n\\n\")\n",
    "    starting_stacks = starting_stacks.split(\"\\n\")\n",
    "    procedures = procedures.split(\"\\n\")"
   ]
  },
  {
   "cell_type": "code",
   "execution_count": 249,
   "metadata": {},
   "outputs": [
    {
     "data": {
      "text/plain": [
       "[['N', 'W', 'F', 'R', 'Z', 'S', 'M', 'D'],\n",
       " ['S', 'G', 'Q', 'P', 'W'],\n",
       " ['C', 'J', 'N', 'F', 'Q', 'V', 'R', 'W'],\n",
       " ['L', 'D', 'G', 'C', 'P', 'Z', 'F'],\n",
       " ['S', 'P', 'T'],\n",
       " ['L', 'R', 'W', 'F', 'D', 'H'],\n",
       " ['C', 'D', 'N', 'Z'],\n",
       " ['Q', 'J', 'S', 'V', 'F', 'R', 'N', 'W'],\n",
       " ['V', 'W', 'Z', 'G', 'S', 'M', 'R']]"
      ]
     },
     "execution_count": 249,
     "metadata": {},
     "output_type": "execute_result"
    }
   ],
   "source": [
    "# Option 1\n",
    "rows = []\n",
    "for row in zip(*starting_stacks[:8]):\n",
    "    rows.append([x for x in row if x.isupper()])\n",
    "\n",
    "stacks = rows[1::4]\n",
    "\n",
    "# Option 2\n",
    "stacks = [\" \".join(row).strip().split(\" \") for row in zip(*starting_stacks[:8])][1::4]\n",
    "\n",
    "stacks"
   ]
  },
  {
   "cell_type": "code",
   "execution_count": 267,
   "metadata": {},
   "outputs": [
    {
     "data": {
      "text/plain": [
       "[['R'],\n",
       " ['N'],\n",
       " ['R', 'C', 'J', 'W', 'N', 'M', 'F', 'W', 'Z', 'C'],\n",
       " ['G', 'W', 'C', 'D', 'P', 'M', 'G', 'P'],\n",
       " ['D'],\n",
       " ['N', 'W', 'S', 'D', 'R', 'V', 'Z', 'T'],\n",
       " ['F', 'Q', 'F', 'Z', 'L', 'S', 'Z', 'V', 'W', 'D', 'F', 'P', 'R', 'S', 'V'],\n",
       " ['Q', 'J', 'Q', 'R', 'L', 'N', 'S', 'W'],\n",
       " ['G', 'S', 'F', 'H']]"
      ]
     },
     "execution_count": 267,
     "metadata": {},
     "output_type": "execute_result"
    }
   ],
   "source": [
    "new_stacks = stacks.copy()\n",
    "for procedure in procedures:\n",
    "    amount, from_stack, to_stack = map(int, re.findall(r\"\\d+\", procedure))\n",
    "\n",
    "    # Remove items\n",
    "    from_items = new_stacks[from_stack - 1]\n",
    "    new_stacks[from_stack - 1], removed_items = (\n",
    "        new_stacks[from_stack - 1][amount:],\n",
    "        new_stacks[from_stack - 1][:amount],\n",
    "    )\n",
    "\n",
    "    # Add items\n",
    "    # new_stacks[to_stack-1], old_to = removed_items[::-1]+new_stacks[to_stack-1], new_stacks[to_stack-1] # challenge 1\n",
    "    new_stacks[to_stack - 1], old_to = (\n",
    "        removed_items + new_stacks[to_stack - 1],\n",
    "        new_stacks[to_stack - 1],\n",
    "    )  # challenge 2\n",
    "\n",
    "new_stacks"
   ]
  },
  {
   "cell_type": "code",
   "execution_count": 268,
   "metadata": {},
   "outputs": [
    {
     "data": {
      "text/plain": [
       "'RNRGDNFQG'"
      ]
     },
     "execution_count": 268,
     "metadata": {},
     "output_type": "execute_result"
    }
   ],
   "source": [
    "# Option 1\n",
    "\"\".join([stack[0] for stack in new_stacks])\n",
    "\n",
    "# Option 2\n",
    "\"\".join(*[zip(*new_stacks)][0])"
   ]
  }
 ],
 "metadata": {
  "kernelspec": {
   "display_name": "Python 3.10.4 64-bit",
   "language": "python",
   "name": "python3"
  },
  "language_info": {
   "codemirror_mode": {
    "name": "ipython",
    "version": 3
   },
   "file_extension": ".py",
   "mimetype": "text/x-python",
   "name": "python",
   "nbconvert_exporter": "python",
   "pygments_lexer": "ipython3",
   "version": "3.10.4"
  },
  "orig_nbformat": 4,
  "vscode": {
   "interpreter": {
    "hash": "2ca5b572f719f8608fcfbfa60ea2cbb76e05c97b610092f39e5845e8be2c74e7"
   }
  }
 },
 "nbformat": 4,
 "nbformat_minor": 2
}
