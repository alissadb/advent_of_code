{
 "cells": [
  {
   "cell_type": "code",
   "execution_count": 62,
   "metadata": {},
   "outputs": [],
   "source": [
    "with open(\"inputs/input4.txt\") as f:\n",
    "    input = f.read().split(\"\\n\")"
   ]
  },
  {
   "cell_type": "code",
   "execution_count": 80,
   "metadata": {},
   "outputs": [
    {
     "name": "stdout",
     "output_type": "stream",
     "text": [
      "562\n"
     ]
    }
   ],
   "source": [
    "counter = 0\n",
    "for pairs in input:\n",
    "    pairs_list = pairs.split(\",\")\n",
    "\n",
    "    pair1 = pairs_list[0].split(\"-\")\n",
    "    pair1_1, pair1_2 = int(pair1[0]), int(pair1[1])\n",
    "    pair1_range = list(range(pair1_1, pair1_2 + 1))\n",
    "\n",
    "    pair2 = pairs_list[1].split(\"-\")\n",
    "    pair2_1, pair2_2 = int(pair2[0]), int(pair2[1])\n",
    "    pair2_range = list(range(pair2_1, pair2_2 + 1))\n",
    "\n",
    "    intersection = set(pair1_range).intersection(pair2_range)\n",
    "\n",
    "    if len(intersection) == len(pair1_range) or len(intersection) == len(pair2_range):\n",
    "        counter += 1\n",
    "\n",
    "print(counter)"
   ]
  },
  {
   "cell_type": "code",
   "execution_count": 81,
   "metadata": {},
   "outputs": [
    {
     "name": "stdout",
     "output_type": "stream",
     "text": [
      "924\n"
     ]
    }
   ],
   "source": [
    "counter = 0\n",
    "for i, pairs in enumerate(input):\n",
    "    pairs_list = pairs.split(\",\")\n",
    "\n",
    "    pair1 = pairs_list[0].split(\"-\")\n",
    "    pair1_1, pair1_2 = int(pair1[0]), int(pair1[1])\n",
    "    pair1_range = list(range(pair1_1, pair1_2 + 1))\n",
    "\n",
    "    pair2 = pairs_list[1].split(\"-\")\n",
    "    pair2_1, pair2_2 = int(pair2[0]), int(pair2[1])\n",
    "    pair2_range = list(range(pair2_1, pair2_2 + 1))\n",
    "\n",
    "    intersection = set(pair1_range).intersection(pair2_range)\n",
    "\n",
    "    if len(intersection) > 0:\n",
    "        counter += 1\n",
    "\n",
    "print(counter)"
   ]
  }
 ],
 "metadata": {
  "kernelspec": {
   "display_name": "Python 3.10.4 64-bit",
   "language": "python",
   "name": "python3"
  },
  "language_info": {
   "codemirror_mode": {
    "name": "ipython",
    "version": 3
   },
   "file_extension": ".py",
   "mimetype": "text/x-python",
   "name": "python",
   "nbconvert_exporter": "python",
   "pygments_lexer": "ipython3",
   "version": "3.10.4"
  },
  "orig_nbformat": 4,
  "vscode": {
   "interpreter": {
    "hash": "2ca5b572f719f8608fcfbfa60ea2cbb76e05c97b610092f39e5845e8be2c74e7"
   }
  }
 },
 "nbformat": 4,
 "nbformat_minor": 2
}
